{
 "cells": [
  {
   "cell_type": "code",
   "execution_count": 12,
   "metadata": {
    "collapsed": true
   },
   "outputs": [],
   "source": [
    "import pandas as pd"
   ]
  },
  {
   "cell_type": "code",
   "execution_count": 13,
   "outputs": [
    {
     "name": "stdout",
     "output_type": "stream",
     "text": [
      " O volume na unidade D ‚ Arquivo\n",
      " O N£mero de S‚rie do Volume ‚ 8CE5-1959\n",
      "\n",
      " Pasta de D:\\Estudo\\Python\\Django\\gestao_estoque\\fix\n",
      "\n",
      "23/04/2023  13:46    <DIR>          .\n",
      "27/04/2023  00:48    <DIR>          ..\n",
      "27/04/2023  00:48             2.909 produtos.csv\n",
      "23/04/2023  13:46            28.160 produtos.xls\n",
      "23/04/2023  02:32            10.935 produtos.xlsx\n",
      "25/04/2023  00:53               819 produtos_exportados.csv\n",
      "               4 arquivo(s)         42.823 bytes\n",
      "               2 pasta(s)   456.478.392.320 bytes dispon¡veis\n"
     ]
    }
   ],
   "source": [
    "ls fix"
   ],
   "metadata": {
    "collapsed": false
   }
  },
  {
   "cell_type": "code",
   "execution_count": 14,
   "outputs": [],
   "source": [
    "df = pd.read_csv('fix/produtos.csv', sep=',', encoding='latin-1')"
   ],
   "metadata": {
    "collapsed": false
   }
  },
  {
   "cell_type": "code",
   "execution_count": 15,
   "outputs": [
    {
     "data": {
      "text/plain": "                         produto       ncm  importado  preco  estoque   \n0                      Apontador  14669768       True  15.54      125  \\\n1             Caderno 100 folhas  44716505       True   6.52      120   \n2   Caderno capa dura 200 folhas  61556783      False  24.46       92   \n3      Caneta esferográfica azul  80951350      False  11.42      138   \n4     Caneta esferográfica preta  19009230       True   3.71      148   \n..                           ...       ...        ...    ...      ...   \n57        Sapatilhas de desporto  24190558      False  12.44       31   \n58                 Stick de cola  34110222      False  10.41      187   \n59                        Toalha  42752411      False  23.03      159   \n60                  Transferidor  40709929      False  26.92       32   \n61                  Tubo de cola  41795932      False   8.27      176   \n\n    estoque_minimo  \n0               30  \n1               10  \n2               20  \n3               20  \n4               40  \n..             ...  \n57              30  \n58              10  \n59              30  \n60              20  \n61              10  \n\n[62 rows x 6 columns]",
      "text/html": "<div>\n<style scoped>\n    .dataframe tbody tr th:only-of-type {\n        vertical-align: middle;\n    }\n\n    .dataframe tbody tr th {\n        vertical-align: top;\n    }\n\n    .dataframe thead th {\n        text-align: right;\n    }\n</style>\n<table border=\"1\" class=\"dataframe\">\n  <thead>\n    <tr style=\"text-align: right;\">\n      <th></th>\n      <th>produto</th>\n      <th>ncm</th>\n      <th>importado</th>\n      <th>preco</th>\n      <th>estoque</th>\n      <th>estoque_minimo</th>\n    </tr>\n  </thead>\n  <tbody>\n    <tr>\n      <th>0</th>\n      <td>Apontador</td>\n      <td>14669768</td>\n      <td>True</td>\n      <td>15.54</td>\n      <td>125</td>\n      <td>30</td>\n    </tr>\n    <tr>\n      <th>1</th>\n      <td>Caderno 100 folhas</td>\n      <td>44716505</td>\n      <td>True</td>\n      <td>6.52</td>\n      <td>120</td>\n      <td>10</td>\n    </tr>\n    <tr>\n      <th>2</th>\n      <td>Caderno capa dura 200 folhas</td>\n      <td>61556783</td>\n      <td>False</td>\n      <td>24.46</td>\n      <td>92</td>\n      <td>20</td>\n    </tr>\n    <tr>\n      <th>3</th>\n      <td>Caneta esferográfica azul</td>\n      <td>80951350</td>\n      <td>False</td>\n      <td>11.42</td>\n      <td>138</td>\n      <td>20</td>\n    </tr>\n    <tr>\n      <th>4</th>\n      <td>Caneta esferográfica preta</td>\n      <td>19009230</td>\n      <td>True</td>\n      <td>3.71</td>\n      <td>148</td>\n      <td>40</td>\n    </tr>\n    <tr>\n      <th>...</th>\n      <td>...</td>\n      <td>...</td>\n      <td>...</td>\n      <td>...</td>\n      <td>...</td>\n      <td>...</td>\n    </tr>\n    <tr>\n      <th>57</th>\n      <td>Sapatilhas de desporto</td>\n      <td>24190558</td>\n      <td>False</td>\n      <td>12.44</td>\n      <td>31</td>\n      <td>30</td>\n    </tr>\n    <tr>\n      <th>58</th>\n      <td>Stick de cola</td>\n      <td>34110222</td>\n      <td>False</td>\n      <td>10.41</td>\n      <td>187</td>\n      <td>10</td>\n    </tr>\n    <tr>\n      <th>59</th>\n      <td>Toalha</td>\n      <td>42752411</td>\n      <td>False</td>\n      <td>23.03</td>\n      <td>159</td>\n      <td>30</td>\n    </tr>\n    <tr>\n      <th>60</th>\n      <td>Transferidor</td>\n      <td>40709929</td>\n      <td>False</td>\n      <td>26.92</td>\n      <td>32</td>\n      <td>20</td>\n    </tr>\n    <tr>\n      <th>61</th>\n      <td>Tubo de cola</td>\n      <td>41795932</td>\n      <td>False</td>\n      <td>8.27</td>\n      <td>176</td>\n      <td>10</td>\n    </tr>\n  </tbody>\n</table>\n<p>62 rows × 6 columns</p>\n</div>"
     },
     "execution_count": 15,
     "metadata": {},
     "output_type": "execute_result"
    }
   ],
   "source": [
    "df"
   ],
   "metadata": {
    "collapsed": false
   }
  },
  {
   "cell_type": "code",
   "execution_count": 19,
   "outputs": [
    {
     "name": "stdout",
     "output_type": "stream",
     "text": [
      "<class 'pandas.core.frame.DataFrame'>\n",
      "RangeIndex: 62 entries, 0 to 61\n",
      "Data columns (total 6 columns):\n",
      " #   Column          Non-Null Count  Dtype  \n",
      "---  ------          --------------  -----  \n",
      " 0   produto         62 non-null     object \n",
      " 1   ncm             62 non-null     int64  \n",
      " 2   importado       62 non-null     bool   \n",
      " 3   preco           62 non-null     float64\n",
      " 4   estoque         62 non-null     int64  \n",
      " 5   estoque_minimo  62 non-null     int64  \n",
      "dtypes: bool(1), float64(1), int64(3), object(1)\n",
      "memory usage: 2.6+ KB\n"
     ]
    }
   ],
   "source": [
    "df.info()"
   ],
   "metadata": {
    "collapsed": false
   }
  },
  {
   "cell_type": "code",
   "execution_count": 17,
   "outputs": [
    {
     "data": {
      "text/plain": "                        produto       ncm  importado  preco  estoque   \n0                     Apontador  14669768       True  15.54      125  \\\n1            Caderno 100 folhas  44716505       True   6.52      120   \n2  Caderno capa dura 200 folhas  61556783      False  24.46       92   \n3     Caneta esferográfica azul  80951350      False  11.42      138   \n4    Caneta esferográfica preta  19009230       True   3.71      148   \n\n   estoque_minimo  \n0              30  \n1              10  \n2              20  \n3              20  \n4              40  ",
      "text/html": "<div>\n<style scoped>\n    .dataframe tbody tr th:only-of-type {\n        vertical-align: middle;\n    }\n\n    .dataframe tbody tr th {\n        vertical-align: top;\n    }\n\n    .dataframe thead th {\n        text-align: right;\n    }\n</style>\n<table border=\"1\" class=\"dataframe\">\n  <thead>\n    <tr style=\"text-align: right;\">\n      <th></th>\n      <th>produto</th>\n      <th>ncm</th>\n      <th>importado</th>\n      <th>preco</th>\n      <th>estoque</th>\n      <th>estoque_minimo</th>\n    </tr>\n  </thead>\n  <tbody>\n    <tr>\n      <th>0</th>\n      <td>Apontador</td>\n      <td>14669768</td>\n      <td>True</td>\n      <td>15.54</td>\n      <td>125</td>\n      <td>30</td>\n    </tr>\n    <tr>\n      <th>1</th>\n      <td>Caderno 100 folhas</td>\n      <td>44716505</td>\n      <td>True</td>\n      <td>6.52</td>\n      <td>120</td>\n      <td>10</td>\n    </tr>\n    <tr>\n      <th>2</th>\n      <td>Caderno capa dura 200 folhas</td>\n      <td>61556783</td>\n      <td>False</td>\n      <td>24.46</td>\n      <td>92</td>\n      <td>20</td>\n    </tr>\n    <tr>\n      <th>3</th>\n      <td>Caneta esferográfica azul</td>\n      <td>80951350</td>\n      <td>False</td>\n      <td>11.42</td>\n      <td>138</td>\n      <td>20</td>\n    </tr>\n    <tr>\n      <th>4</th>\n      <td>Caneta esferográfica preta</td>\n      <td>19009230</td>\n      <td>True</td>\n      <td>3.71</td>\n      <td>148</td>\n      <td>40</td>\n    </tr>\n  </tbody>\n</table>\n</div>"
     },
     "execution_count": 17,
     "metadata": {},
     "output_type": "execute_result"
    }
   ],
   "source": [
    "df.head()"
   ],
   "metadata": {
    "collapsed": false
   }
  },
  {
   "cell_type": "code",
   "execution_count": 18,
   "outputs": [
    {
     "data": {
      "text/plain": "                   produto       ncm  importado  preco  estoque   \n57  Sapatilhas de desporto  24190558      False  12.44       31  \\\n58           Stick de cola  34110222      False  10.41      187   \n59                  Toalha  42752411      False  23.03      159   \n60            Transferidor  40709929      False  26.92       32   \n61            Tubo de cola  41795932      False   8.27      176   \n\n    estoque_minimo  \n57              30  \n58              10  \n59              30  \n60              20  \n61              10  ",
      "text/html": "<div>\n<style scoped>\n    .dataframe tbody tr th:only-of-type {\n        vertical-align: middle;\n    }\n\n    .dataframe tbody tr th {\n        vertical-align: top;\n    }\n\n    .dataframe thead th {\n        text-align: right;\n    }\n</style>\n<table border=\"1\" class=\"dataframe\">\n  <thead>\n    <tr style=\"text-align: right;\">\n      <th></th>\n      <th>produto</th>\n      <th>ncm</th>\n      <th>importado</th>\n      <th>preco</th>\n      <th>estoque</th>\n      <th>estoque_minimo</th>\n    </tr>\n  </thead>\n  <tbody>\n    <tr>\n      <th>57</th>\n      <td>Sapatilhas de desporto</td>\n      <td>24190558</td>\n      <td>False</td>\n      <td>12.44</td>\n      <td>31</td>\n      <td>30</td>\n    </tr>\n    <tr>\n      <th>58</th>\n      <td>Stick de cola</td>\n      <td>34110222</td>\n      <td>False</td>\n      <td>10.41</td>\n      <td>187</td>\n      <td>10</td>\n    </tr>\n    <tr>\n      <th>59</th>\n      <td>Toalha</td>\n      <td>42752411</td>\n      <td>False</td>\n      <td>23.03</td>\n      <td>159</td>\n      <td>30</td>\n    </tr>\n    <tr>\n      <th>60</th>\n      <td>Transferidor</td>\n      <td>40709929</td>\n      <td>False</td>\n      <td>26.92</td>\n      <td>32</td>\n      <td>20</td>\n    </tr>\n    <tr>\n      <th>61</th>\n      <td>Tubo de cola</td>\n      <td>41795932</td>\n      <td>False</td>\n      <td>8.27</td>\n      <td>176</td>\n      <td>10</td>\n    </tr>\n  </tbody>\n</table>\n</div>"
     },
     "execution_count": 18,
     "metadata": {},
     "output_type": "execute_result"
    }
   ],
   "source": [
    "df.tail()"
   ],
   "metadata": {
    "collapsed": false
   }
  },
  {
   "cell_type": "code",
   "execution_count": 18,
   "outputs": [],
   "source": [],
   "metadata": {
    "collapsed": false
   }
  }
 ],
 "metadata": {
  "kernelspec": {
   "display_name": "Python 3",
   "language": "python",
   "name": "python3"
  },
  "language_info": {
   "codemirror_mode": {
    "name": "ipython",
    "version": 2
   },
   "file_extension": ".py",
   "mimetype": "text/x-python",
   "name": "python",
   "nbconvert_exporter": "python",
   "pygments_lexer": "ipython2",
   "version": "2.7.6"
  }
 },
 "nbformat": 4,
 "nbformat_minor": 0
}
